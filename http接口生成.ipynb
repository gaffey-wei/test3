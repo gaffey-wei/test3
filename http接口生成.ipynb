{
 "cells": [
  {
   "cell_type": "code",
   "execution_count": 2,
   "id": "8644d77f-6092-4a12-8a64-eb49e4687833",
   "metadata": {
    "collapsed": true,
    "jupyter": {
     "outputs_hidden": true
    },
    "scrolled": true
   },
   "outputs": [
    {
     "name": "stdout",
     "output_type": "stream",
     "text": [
      "Collecting Flask\n",
      "  Downloading flask-3.0.0-py3-none-any.whl.metadata (3.6 kB)\n",
      "Collecting Werkzeug>=3.0.0 (from Flask)\n",
      "  Downloading werkzeug-3.0.1-py3-none-any.whl.metadata (4.1 kB)\n",
      "Requirement already satisfied: Jinja2>=3.1.2 in c:\\users\\gaffey.wei\\appdata\\local\\programs\\python\\python311\\lib\\site-packages (from Flask) (3.1.2)\n",
      "Collecting itsdangerous>=2.1.2 (from Flask)\n",
      "  Downloading itsdangerous-2.1.2-py3-none-any.whl (15 kB)\n",
      "Requirement already satisfied: click>=8.1.3 in c:\\users\\gaffey.wei\\appdata\\local\\programs\\python\\python311\\lib\\site-packages (from Flask) (8.1.7)\n",
      "Collecting blinker>=1.6.2 (from Flask)\n",
      "  Downloading blinker-1.7.0-py3-none-any.whl.metadata (1.9 kB)\n",
      "Requirement already satisfied: colorama in c:\\users\\gaffey.wei\\appdata\\local\\programs\\python\\python311\\lib\\site-packages (from click>=8.1.3->Flask) (0.4.6)\n",
      "Requirement already satisfied: MarkupSafe>=2.0 in c:\\users\\gaffey.wei\\appdata\\local\\programs\\python\\python311\\lib\\site-packages (from Jinja2>=3.1.2->Flask) (2.1.3)\n",
      "Downloading flask-3.0.0-py3-none-any.whl (99 kB)\n",
      "   ---------------------------------------- 0.0/99.7 kB ? eta -:--:--\n",
      "   ---- ----------------------------------- 10.2/99.7 kB ? eta -:--:--\n",
      "   ------------ --------------------------- 30.7/99.7 kB 660.6 kB/s eta 0:00:01\n",
      "   ------------ --------------------------- 30.7/99.7 kB 660.6 kB/s eta 0:00:01\n",
      "   ---------------- ----------------------- 41.0/99.7 kB 245.8 kB/s eta 0:00:01\n",
      "   -------------------------------- ------- 81.9/99.7 kB 383.3 kB/s eta 0:00:01\n",
      "   ---------------------------------------- 99.7/99.7 kB 410.5 kB/s eta 0:00:00\n",
      "Downloading blinker-1.7.0-py3-none-any.whl (13 kB)\n",
      "Downloading werkzeug-3.0.1-py3-none-any.whl (226 kB)\n",
      "   ---------------------------------------- 0.0/226.7 kB ? eta -:--:--\n",
      "   - -------------------------------------- 10.2/226.7 kB ? eta -:--:--\n",
      "   ------- ------------------------------- 41.0/226.7 kB 653.6 kB/s eta 0:00:01\n",
      "   -------------- ------------------------ 81.9/226.7 kB 657.6 kB/s eta 0:00:01\n",
      "   --------------- ----------------------- 92.2/226.7 kB 655.4 kB/s eta 0:00:01\n",
      "   -------------------- ----------------- 122.9/226.7 kB 602.4 kB/s eta 0:00:01\n",
      "   --------------------------- ---------- 163.8/226.7 kB 656.4 kB/s eta 0:00:01\n",
      "   ----------------------------- -------- 174.1/226.7 kB 618.3 kB/s eta 0:00:01\n",
      "   ---------------------------------- --- 204.8/226.7 kB 593.2 kB/s eta 0:00:01\n",
      "   -------------------------------------- 226.7/226.7 kB 602.9 kB/s eta 0:00:00\n",
      "Installing collected packages: Werkzeug, itsdangerous, blinker, Flask\n",
      "Successfully installed Flask-3.0.0 Werkzeug-3.0.1 blinker-1.7.0 itsdangerous-2.1.2\n"
     ]
    }
   ],
   "source": [
    "! pip install Flask"
   ]
  },
  {
   "cell_type": "code",
   "execution_count": 3,
   "id": "4c798a44-dd83-4f4c-a548-73b25059ff15",
   "metadata": {},
   "outputs": [],
   "source": [
    "from flask import Flask, request, jsonify"
   ]
  },
  {
   "cell_type": "code",
   "execution_count": 6,
   "id": "53604b6a-bd00-469c-9604-af89df07cf82",
   "metadata": {},
   "outputs": [
    {
     "name": "stdout",
     "output_type": "stream",
     "text": [
      " * Serving Flask app '__main__'\n",
      " * Debug mode: on\n"
     ]
    },
    {
     "name": "stderr",
     "output_type": "stream",
     "text": [
      "WARNING: This is a development server. Do not use it in a production deployment. Use a production WSGI server instead.\n",
      " * Running on http://127.0.0.1:5000\n",
      "Press CTRL+C to quit\n",
      " * Restarting with stat\n"
     ]
    },
    {
     "ename": "SystemExit",
     "evalue": "1",
     "output_type": "error",
     "traceback": [
      "An exception has occurred, use %tb to see the full traceback.\n",
      "\u001b[1;31mSystemExit\u001b[0m\u001b[1;31m:\u001b[0m 1\n"
     ]
    }
   ],
   "source": [
    "app = Flask(__name__)\n",
    "\n",
    "@app.route('/api', methods=['GET', 'POST'])\n",
    "def my_api():\n",
    "    if request.method == 'POST':\n",
    "        data = request.json\n",
    "        # 在这里处理你的Python逻辑\n",
    "        return jsonify({\"message\": \"Data received\", \"data\": data})\n",
    "    return jsonify({\"message\": \"Hello, World!\"})\n",
    "\n",
    "if __name__ == '__main__':\n",
    "    app.run(debug=True)\n"
   ]
  },
  {
   "cell_type": "markdown",
   "id": "3f741fce-aaa1-4eb0-aba8-96dbc8773992",
   "metadata": {},
   "source": [
    "__pycache__/\r\n",
    "venv/\r\n",
    "*.pyc\r\n"
   ]
  },
  {
   "cell_type": "code",
   "execution_count": 5,
   "id": "fd704885-cf22-486b-a694-8e300fd27695",
   "metadata": {},
   "outputs": [
    {
     "ename": "SyntaxError",
     "evalue": "invalid syntax (922800552.py, line 1)",
     "output_type": "error",
     "traceback": [
      "\u001b[1;36m  Cell \u001b[1;32mIn[5], line 1\u001b[1;36m\u001b[0m\n\u001b[1;33m    git init\u001b[0m\n\u001b[1;37m        ^\u001b[0m\n\u001b[1;31mSyntaxError\u001b[0m\u001b[1;31m:\u001b[0m invalid syntax\n"
     ]
    }
   ],
   "source": [
    "git init\n",
    "git add .\n",
    "git commit -m \"Initial commit\"\n",
    "git remote add origin https://github.com/gaffey-wei/test1\n",
    "git push -u origin master"
   ]
  },
  {
   "cell_type": "code",
   "execution_count": null,
   "id": "7c7fb879-bde0-40e3-8b9d-d344360bc45c",
   "metadata": {},
   "outputs": [],
   "source": []
  }
 ],
 "metadata": {
  "kernelspec": {
   "display_name": "Python 3 (ipykernel)",
   "language": "python",
   "name": "python3"
  },
  "language_info": {
   "codemirror_mode": {
    "name": "ipython",
    "version": 3
   },
   "file_extension": ".py",
   "mimetype": "text/x-python",
   "name": "python",
   "nbconvert_exporter": "python",
   "pygments_lexer": "ipython3",
   "version": "3.11.4"
  }
 },
 "nbformat": 4,
 "nbformat_minor": 5
}
